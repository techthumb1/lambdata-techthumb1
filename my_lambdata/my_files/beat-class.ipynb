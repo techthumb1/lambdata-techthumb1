{
 "cells": [
  {
   "cell_type": "code",
   "execution_count": 1,
   "metadata": {},
   "outputs": [
    {
     "name": "stdout",
     "output_type": "stream",
     "text": [
      "High Kick High Snare Low Bass\n",
      "I AM PLAYING THE High Snare\n",
      "PLAYING THE SOUNDFONT\n",
      "I AM PLAYING THE Mid Snare WITH Deep Bass\n",
      "PLAYING THE SOUNDFONT\n"
     ]
    }
   ],
   "source": [
    "# beat.py\n",
    "\n",
    "class Beat():\n",
    "    \n",
    "    '''Create a simple 4 bar beat.\n",
    "\n",
    "    Params: Kick, snare, hat, and bass will be starting instruments.\n",
    "\n",
    "    Returns: A pattern of the instruments in combination.\n",
    "    '''\n",
    "\n",
    "    def __init__(self, kick, snare, hat, bass):\n",
    "        self.kick = kick\n",
    "        self.snare = snare\n",
    "        self.hat = hat\n",
    "        self.bass = bass\n",
    "\n",
    "    def instrument(self):\n",
    "        print(\"PLAYING THE SOUNDFONT\")\n",
    "\n",
    "    def keys(self):\n",
    "        print(\"I AM PLAYING THE\", self.snare)\n",
    "\n",
    "\n",
    "class Hip_Hop(Beat):\n",
    "    def __init__(self, kick, snare, hat, bass, trap_bass):\n",
    "        super().__init__(kick, snare, hat, bass)\n",
    "        self.trap_bass = trap_bass\n",
    "\n",
    "    def keys(self):\n",
    "        print(\"I AM PLAYING THE\", self.snare, \"WITH\", self.trap_bass)\n",
    "\n",
    "\n",
    "if __name__ == \"__main__\":\n",
    "    soundfont = Beat(\"High Kick\", \"High Snare\", \"High Hat\", \"Low Bass\")\n",
    "    print(soundfont.kick, soundfont.snare, soundfont.bass)\n",
    "    soundfont.keys()\n",
    "    soundfont.instrument()\n",
    "\n",
    "    keys = Hip_Hop(\"Low Kick\", \"Mid Snare\", \"Low Hat\", \"Mid Bass\", \"Deep Bass\")\n",
    "    keys.keys()\n",
    "    keys.instrument()\n"
   ]
  },
  {
   "cell_type": "code",
   "execution_count": 16,
   "metadata": {},
   "outputs": [
    {
     "name": "stdout",
     "output_type": "stream",
     "text": [
      "High Kick\n"
     ]
    }
   ],
   "source": [
    "print(soundfont.kick)"
   ]
  },
  {
   "cell_type": "code",
   "execution_count": null,
   "metadata": {},
   "outputs": [],
   "source": []
  },
  {
   "cell_type": "code",
   "execution_count": null,
   "metadata": {},
   "outputs": [],
   "source": []
  }
 ],
 "metadata": {
  "kernelspec": {
   "display_name": "Python 3",
   "language": "python",
   "name": "python3"
  },
  "language_info": {
   "codemirror_mode": {
    "name": "ipython",
    "version": 3
   },
   "file_extension": ".py",
   "mimetype": "text/x-python",
   "name": "python",
   "nbconvert_exporter": "python",
   "pygments_lexer": "ipython3",
   "version": "3.7.3"
  }
 },
 "nbformat": 4,
 "nbformat_minor": 2
}
